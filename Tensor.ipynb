{
  "nbformat": 4,
  "nbformat_minor": 0,
  "metadata": {
    "colab": {
      "provenance": [],
      "authorship_tag": "ABX9TyMmEBf/koXKmv++7kZZR1OY",
      "include_colab_link": true
    },
    "kernelspec": {
      "name": "python3",
      "display_name": "Python 3"
    },
    "language_info": {
      "name": "python"
    }
  },
  "cells": [
    {
      "cell_type": "markdown",
      "metadata": {
        "id": "view-in-github",
        "colab_type": "text"
      },
      "source": [
        "<a href=\"https://colab.research.google.com/github/AshmitaChowdhury92/Machine_Learning_Journey/blob/main/Tensor.ipynb\" target=\"_parent\"><img src=\"https://colab.research.google.com/assets/colab-badge.svg\" alt=\"Open In Colab\"/></a>"
      ]
    },
    {
      "cell_type": "code",
      "execution_count": 8,
      "metadata": {
        "id": "fYDiUMy5bjqh"
      },
      "outputs": [],
      "source": [
        "import numpy as np\n"
      ]
    },
    {
      "cell_type": "code",
      "source": [
        "########### 0D Array/Scalar ##############\n",
        "a = np.array(4)\n",
        "print(a)\n",
        "a.ndim"
      ],
      "metadata": {
        "colab": {
          "base_uri": "https://localhost:8080/"
        },
        "id": "p9U2Z1zSbzCm",
        "outputId": "88614378-f6cc-4c08-8e11-6f3c9113a0cc"
      },
      "execution_count": 9,
      "outputs": [
        {
          "output_type": "stream",
          "name": "stdout",
          "text": [
            "4\n"
          ]
        },
        {
          "output_type": "execute_result",
          "data": {
            "text/plain": [
              "0"
            ]
          },
          "metadata": {},
          "execution_count": 9
        }
      ]
    },
    {
      "cell_type": "code",
      "source": [
        "####### 1D Array/ Vector ##########\n",
        "\n",
        "a = np.array([1,2,3])\n",
        "print (a)\n",
        "a.ndim\n"
      ],
      "metadata": {
        "colab": {
          "base_uri": "https://localhost:8080/"
        },
        "id": "rfzPWJBCcCfh",
        "outputId": "d9d60d4c-5195-4916-d4a3-f46d643e2851"
      },
      "execution_count": 10,
      "outputs": [
        {
          "output_type": "stream",
          "name": "stdout",
          "text": [
            "[1 2 3]\n"
          ]
        },
        {
          "output_type": "execute_result",
          "data": {
            "text/plain": [
              "1"
            ]
          },
          "metadata": {},
          "execution_count": 10
        }
      ]
    },
    {
      "cell_type": "code",
      "source": [
        "####### 2D Array ##########\n",
        "\n",
        "a = np.array( [     [1, 2, 3],\n",
        "                    [4, 5, 6],\n",
        "                    [7, 8, 9]       ] )\n",
        "\n",
        "print(a)\n",
        "print(a.ndim)\n",
        "print(a.shape)"
      ],
      "metadata": {
        "colab": {
          "base_uri": "https://localhost:8080/"
        },
        "id": "aflX-qaJA2cl",
        "outputId": "df5e5b30-94fb-40d2-c11b-c083ed9ddb1e"
      },
      "execution_count": 11,
      "outputs": [
        {
          "output_type": "stream",
          "name": "stdout",
          "text": [
            "[[1 2 3]\n",
            " [4 5 6]\n",
            " [7 8 9]]\n",
            "2\n",
            "(3, 3)\n"
          ]
        }
      ]
    },
    {
      "cell_type": "code",
      "source": [
        "####### 3D Array ##########\n",
        "\n",
        "\n",
        "\n",
        "a = np.array( [     [[1, 2, 3], [2, 2, 2]],\n",
        "                    [[4, 5, 6], [1, 1, 1]],\n",
        "                    [[7, 8, 9], [3, 3, 3]]       ] )\n",
        "\n",
        "print(a)\n",
        "print(a.ndim)\n",
        "a.shape\n",
        "\n"
      ],
      "metadata": {
        "colab": {
          "base_uri": "https://localhost:8080/"
        },
        "id": "fbaXxomdcfAu",
        "outputId": "0b728792-c797-49ef-9b7f-df5ff0675115"
      },
      "execution_count": 12,
      "outputs": [
        {
          "output_type": "stream",
          "name": "stdout",
          "text": [
            "[[[1 2 3]\n",
            "  [2 2 2]]\n",
            "\n",
            " [[4 5 6]\n",
            "  [1 1 1]]\n",
            "\n",
            " [[7 8 9]\n",
            "  [3 3 3]]]\n",
            "3\n"
          ]
        },
        {
          "output_type": "execute_result",
          "data": {
            "text/plain": [
              "(3, 2, 3)"
            ]
          },
          "metadata": {},
          "execution_count": 12
        }
      ]
    },
    {
      "cell_type": "code",
      "source": [
        "####### 3D Array ##########\n",
        "\n",
        "\n",
        "\n",
        "a = np.array( [     [[1, 2, 3], [2, 2, 2],[10,20,30],[40,50,60]],\n",
        "                    [[4, 5, 6], [1, 1, 1],[10,20,30],[40,50,60]],\n",
        "                    [[7, 8, 9], [3, 3, 3],[10,20,30],[40,50,60]]       ] )\n",
        "\n",
        "print(a)\n",
        "print(a.ndim)\n",
        "a.shape"
      ],
      "metadata": {
        "colab": {
          "base_uri": "https://localhost:8080/"
        },
        "id": "zZko8Ch7Bl6t",
        "outputId": "2820bd57-9702-41f5-9ea3-08cfe371bcf9"
      },
      "execution_count": 14,
      "outputs": [
        {
          "output_type": "stream",
          "name": "stdout",
          "text": [
            "[[[ 1  2  3]\n",
            "  [ 2  2  2]\n",
            "  [10 20 30]\n",
            "  [40 50 60]]\n",
            "\n",
            " [[ 4  5  6]\n",
            "  [ 1  1  1]\n",
            "  [10 20 30]\n",
            "  [40 50 60]]\n",
            "\n",
            " [[ 7  8  9]\n",
            "  [ 3  3  3]\n",
            "  [10 20 30]\n",
            "  [40 50 60]]]\n",
            "3\n"
          ]
        },
        {
          "output_type": "execute_result",
          "data": {
            "text/plain": [
              "(3, 4, 3)"
            ]
          },
          "metadata": {},
          "execution_count": 14
        }
      ]
    }
  ]
}